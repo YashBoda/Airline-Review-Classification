{
 "cells": [
  {
   "cell_type": "code",
   "execution_count": 1,
   "id": "89986e07-f809-4e49-b166-c682899f022a",
   "metadata": {},
   "outputs": [
    {
     "name": "stderr",
     "output_type": "stream",
     "text": [
      "C:\\Users\\yash\\Desktop\\Project\\Scrape_data\\airline-env\\lib\\site-packages\\tqdm\\auto.py:21: TqdmWarning: IProgress not found. Please update jupyter and ipywidgets. See https://ipywidgets.readthedocs.io/en/stable/user_install.html\n",
      "  from .autonotebook import tqdm as notebook_tqdm\n"
     ]
    }
   ],
   "source": [
    "import pandas as pd\n",
    "import numpy as np\n",
    "import import_ipynb\n",
    "from nlp_modals import predict_label_bert_123"
   ]
  },
  {
   "cell_type": "code",
   "execution_count": 2,
   "id": "e9a7adab-6065-4b23-bc83-036ceb6f5900",
   "metadata": {},
   "outputs": [],
   "source": [
    "df=pd.read_csv('./DATA/airline_tweets.csv')"
   ]
  },
  {
   "cell_type": "code",
   "execution_count": 3,
   "id": "fbc292d7-1418-477f-bf75-abc1af4760eb",
   "metadata": {},
   "outputs": [],
   "source": [
    "df = pd.read_csv('./DATA/airline_tweets.csv')\n",
    "df = df[['text', 'airline_sentiment']]\n",
    "\n",
    "# Optional: Clean text by removing first word (if needed)\n",
    "df['text'] = [' '.join(review.split(' ')[1:]) for review in df['text']]"
   ]
  },
  {
   "cell_type": "code",
   "execution_count": 4,
   "id": "73fcb62c-b559-461c-b09c-dab1b5594111",
   "metadata": {},
   "outputs": [
    {
     "data": {
      "text/plain": [
       "0                                  What @dhepburn said.\n",
       "1     plus you've added commercials to the experienc...\n",
       "2     I didn't today... Must mean I need to take ano...\n",
       "3     it's really aggressive to blast obnoxious \"ent...\n",
       "4              and it's a really big bad thing about it\n",
       "                            ...                        \n",
       "95    Is it me, or is your website down?  BTW, your ...\n",
       "96    I can't check in or add a bag. Your website is...\n",
       "97    - Let 2 scanned in passengers leave the plane ...\n",
       "98    What is your phone number. I can't find who to...\n",
       "99    is anyone doing anything there today?  Website...\n",
       "Name: text, Length: 100, dtype: object"
      ]
     },
     "execution_count": 4,
     "metadata": {},
     "output_type": "execute_result"
    }
   ],
   "source": [
    "df['text'].iloc[:100]"
   ]
  },
  {
   "cell_type": "code",
   "execution_count": 5,
   "id": "5dd82b51-c727-487a-833a-6db94cae7360",
   "metadata": {},
   "outputs": [],
   "source": [
    "new_df = df.iloc[:100]"
   ]
  },
  {
   "cell_type": "code",
   "execution_count": 6,
   "id": "3edaae59-bfff-411c-b811-7d6cf9905e9d",
   "metadata": {},
   "outputs": [
    {
     "data": {
      "text/html": [
       "<div>\n",
       "<style scoped>\n",
       "    .dataframe tbody tr th:only-of-type {\n",
       "        vertical-align: middle;\n",
       "    }\n",
       "\n",
       "    .dataframe tbody tr th {\n",
       "        vertical-align: top;\n",
       "    }\n",
       "\n",
       "    .dataframe thead th {\n",
       "        text-align: right;\n",
       "    }\n",
       "</style>\n",
       "<table border=\"1\" class=\"dataframe\">\n",
       "  <thead>\n",
       "    <tr style=\"text-align: right;\">\n",
       "      <th></th>\n",
       "      <th>text</th>\n",
       "      <th>airline_sentiment</th>\n",
       "    </tr>\n",
       "  </thead>\n",
       "  <tbody>\n",
       "    <tr>\n",
       "      <th>0</th>\n",
       "      <td>What @dhepburn said.</td>\n",
       "      <td>neutral</td>\n",
       "    </tr>\n",
       "    <tr>\n",
       "      <th>1</th>\n",
       "      <td>plus you've added commercials to the experienc...</td>\n",
       "      <td>positive</td>\n",
       "    </tr>\n",
       "    <tr>\n",
       "      <th>2</th>\n",
       "      <td>I didn't today... Must mean I need to take ano...</td>\n",
       "      <td>neutral</td>\n",
       "    </tr>\n",
       "    <tr>\n",
       "      <th>3</th>\n",
       "      <td>it's really aggressive to blast obnoxious \"ent...</td>\n",
       "      <td>negative</td>\n",
       "    </tr>\n",
       "    <tr>\n",
       "      <th>4</th>\n",
       "      <td>and it's a really big bad thing about it</td>\n",
       "      <td>negative</td>\n",
       "    </tr>\n",
       "  </tbody>\n",
       "</table>\n",
       "</div>"
      ],
      "text/plain": [
       "                                                text airline_sentiment\n",
       "0                               What @dhepburn said.           neutral\n",
       "1  plus you've added commercials to the experienc...          positive\n",
       "2  I didn't today... Must mean I need to take ano...           neutral\n",
       "3  it's really aggressive to blast obnoxious \"ent...          negative\n",
       "4           and it's a really big bad thing about it          negative"
      ]
     },
     "execution_count": 6,
     "metadata": {},
     "output_type": "execute_result"
    }
   ],
   "source": [
    "df.head()"
   ]
  },
  {
   "cell_type": "code",
   "execution_count": 7,
   "id": "33fa3baa-8bb8-453a-8cdc-391e48d53e42",
   "metadata": {},
   "outputs": [
    {
     "name": "stderr",
     "output_type": "stream",
     "text": [
      "C:\\Users\\yash\\AppData\\Local\\Temp\\ipykernel_12276\\1174260520.py:1: SettingWithCopyWarning: \n",
      "A value is trying to be set on a copy of a slice from a DataFrame.\n",
      "Try using .loc[row_indexer,col_indexer] = value instead\n",
      "\n",
      "See the caveats in the documentation: https://pandas.pydata.org/pandas-docs/stable/user_guide/indexing.html#returning-a-view-versus-a-copy\n",
      "  new_df['predicted_label'] = predict_label_bert_123(new_df['text'].iloc[:100])\n"
     ]
    }
   ],
   "source": [
    "new_df['predicted_label'] = predict_label_bert_123(new_df['text'].iloc[:100])"
   ]
  },
  {
   "cell_type": "code",
   "execution_count": 8,
   "id": "a05d8a1d-8cc1-41a0-8353-c9918151f756",
   "metadata": {},
   "outputs": [
    {
     "data": {
      "text/html": [
       "<div>\n",
       "<style scoped>\n",
       "    .dataframe tbody tr th:only-of-type {\n",
       "        vertical-align: middle;\n",
       "    }\n",
       "\n",
       "    .dataframe tbody tr th {\n",
       "        vertical-align: top;\n",
       "    }\n",
       "\n",
       "    .dataframe thead th {\n",
       "        text-align: right;\n",
       "    }\n",
       "</style>\n",
       "<table border=\"1\" class=\"dataframe\">\n",
       "  <thead>\n",
       "    <tr style=\"text-align: right;\">\n",
       "      <th></th>\n",
       "      <th>text</th>\n",
       "      <th>airline_sentiment</th>\n",
       "      <th>predicted_label</th>\n",
       "    </tr>\n",
       "  </thead>\n",
       "  <tbody>\n",
       "    <tr>\n",
       "      <th>0</th>\n",
       "      <td>What @dhepburn said.</td>\n",
       "      <td>neutral</td>\n",
       "      <td>neutral</td>\n",
       "    </tr>\n",
       "    <tr>\n",
       "      <th>1</th>\n",
       "      <td>plus you've added commercials to the experienc...</td>\n",
       "      <td>positive</td>\n",
       "      <td>positive</td>\n",
       "    </tr>\n",
       "    <tr>\n",
       "      <th>2</th>\n",
       "      <td>I didn't today... Must mean I need to take ano...</td>\n",
       "      <td>neutral</td>\n",
       "      <td>neutral</td>\n",
       "    </tr>\n",
       "    <tr>\n",
       "      <th>3</th>\n",
       "      <td>it's really aggressive to blast obnoxious \"ent...</td>\n",
       "      <td>negative</td>\n",
       "      <td>negative</td>\n",
       "    </tr>\n",
       "    <tr>\n",
       "      <th>4</th>\n",
       "      <td>and it's a really big bad thing about it</td>\n",
       "      <td>negative</td>\n",
       "      <td>negative</td>\n",
       "    </tr>\n",
       "    <tr>\n",
       "      <th>...</th>\n",
       "      <td>...</td>\n",
       "      <td>...</td>\n",
       "      <td>...</td>\n",
       "    </tr>\n",
       "    <tr>\n",
       "      <th>95</th>\n",
       "      <td>Is it me, or is your website down?  BTW, your ...</td>\n",
       "      <td>negative</td>\n",
       "      <td>negative</td>\n",
       "    </tr>\n",
       "    <tr>\n",
       "      <th>96</th>\n",
       "      <td>I can't check in or add a bag. Your website is...</td>\n",
       "      <td>negative</td>\n",
       "      <td>negative</td>\n",
       "    </tr>\n",
       "    <tr>\n",
       "      <th>97</th>\n",
       "      <td>- Let 2 scanned in passengers leave the plane ...</td>\n",
       "      <td>negative</td>\n",
       "      <td>negative</td>\n",
       "    </tr>\n",
       "    <tr>\n",
       "      <th>98</th>\n",
       "      <td>What is your phone number. I can't find who to...</td>\n",
       "      <td>negative</td>\n",
       "      <td>negative</td>\n",
       "    </tr>\n",
       "    <tr>\n",
       "      <th>99</th>\n",
       "      <td>is anyone doing anything there today?  Website...</td>\n",
       "      <td>negative</td>\n",
       "      <td>negative</td>\n",
       "    </tr>\n",
       "  </tbody>\n",
       "</table>\n",
       "<p>100 rows × 3 columns</p>\n",
       "</div>"
      ],
      "text/plain": [
       "                                                 text airline_sentiment  \\\n",
       "0                                What @dhepburn said.           neutral   \n",
       "1   plus you've added commercials to the experienc...          positive   \n",
       "2   I didn't today... Must mean I need to take ano...           neutral   \n",
       "3   it's really aggressive to blast obnoxious \"ent...          negative   \n",
       "4            and it's a really big bad thing about it          negative   \n",
       "..                                                ...               ...   \n",
       "95  Is it me, or is your website down?  BTW, your ...          negative   \n",
       "96  I can't check in or add a bag. Your website is...          negative   \n",
       "97  - Let 2 scanned in passengers leave the plane ...          negative   \n",
       "98  What is your phone number. I can't find who to...          negative   \n",
       "99  is anyone doing anything there today?  Website...          negative   \n",
       "\n",
       "   predicted_label  \n",
       "0          neutral  \n",
       "1         positive  \n",
       "2          neutral  \n",
       "3         negative  \n",
       "4         negative  \n",
       "..             ...  \n",
       "95        negative  \n",
       "96        negative  \n",
       "97        negative  \n",
       "98        negative  \n",
       "99        negative  \n",
       "\n",
       "[100 rows x 3 columns]"
      ]
     },
     "execution_count": 8,
     "metadata": {},
     "output_type": "execute_result"
    }
   ],
   "source": [
    "new_df"
   ]
  },
  {
   "cell_type": "code",
   "execution_count": 9,
   "id": "8d71a4bc-db7e-4f58-b08b-d38ecb4d5c47",
   "metadata": {},
   "outputs": [],
   "source": [
    "from sklearn.metrics import accuracy_score"
   ]
  },
  {
   "cell_type": "code",
   "execution_count": 10,
   "id": "0dbfd8cc-9af6-4e80-a9ec-6ab20ab4d345",
   "metadata": {},
   "outputs": [],
   "source": [
    "acc_score = accuracy_score(new_df['airline_sentiment'],new_df['predicted_label'])*100"
   ]
  },
  {
   "cell_type": "code",
   "execution_count": 11,
   "id": "1f519bd9-8688-4e95-8e63-d3c32e08eb49",
   "metadata": {},
   "outputs": [
    {
     "name": "stdout",
     "output_type": "stream",
     "text": [
      "Accuracy Score : 98.0 %\n"
     ]
    }
   ],
   "source": [
    "print(f'Accuracy Score : {acc_score} %')"
   ]
  },
  {
   "cell_type": "code",
   "execution_count": null,
   "id": "c486da35-7a98-4fc8-8921-d4968d59f507",
   "metadata": {},
   "outputs": [],
   "source": []
  }
 ],
 "metadata": {
  "kernelspec": {
   "display_name": "Python (airline-env)",
   "language": "python",
   "name": "airline-env"
  },
  "language_info": {
   "codemirror_mode": {
    "name": "ipython",
    "version": 3
   },
   "file_extension": ".py",
   "mimetype": "text/x-python",
   "name": "python",
   "nbconvert_exporter": "python",
   "pygments_lexer": "ipython3",
   "version": "3.10.0"
  }
 },
 "nbformat": 4,
 "nbformat_minor": 5
}
